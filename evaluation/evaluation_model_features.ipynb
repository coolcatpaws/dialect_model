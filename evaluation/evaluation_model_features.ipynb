{
 "cells": [
  {
   "cell_type": "code",
   "execution_count": 1,
   "id": "490a5e64-60c4-4042-afd0-d472b1332935",
   "metadata": {
    "execution": {
     "iopub.execute_input": "2025-09-14T20:28:18.874261Z",
     "iopub.status.busy": "2025-09-14T20:28:18.874116Z",
     "iopub.status.idle": "2025-09-14T20:28:24.994746Z",
     "shell.execute_reply": "2025-09-14T20:28:24.994216Z",
     "shell.execute_reply.started": "2025-09-14T20:28:18.874246Z"
    }
   },
   "outputs": [],
   "source": [
    "# %% Tabular feature prep (train-only stats) + DataLoaders with audio+tabs\n",
    "import os, time, math, random\n",
    "import numpy as np\n",
    "import pandas as pd\n",
    "import matplotlib.pyplot as plt\n",
    "import seaborn as sns\n",
    "\n",
    "import torch\n",
    "import torch.nn as nn\n",
    "import torch.optim as optim\n",
    "from torch.utils.data import Dataset, DataLoader\n",
    "from tqdm import tqdm\n",
    "import librosa"
   ]
  },
  {
   "cell_type": "code",
   "execution_count": 2,
   "id": "b8650e39-d8a0-4d01-9893-d21be308bbdb",
   "metadata": {
    "execution": {
     "iopub.execute_input": "2025-09-14T20:28:27.059664Z",
     "iopub.status.busy": "2025-09-14T20:28:27.059445Z",
     "iopub.status.idle": "2025-09-14T20:28:27.062977Z",
     "shell.execute_reply": "2025-09-14T20:28:27.062485Z",
     "shell.execute_reply.started": "2025-09-14T20:28:27.059647Z"
    }
   },
   "outputs": [],
   "source": [
    "# ----------------- Config (EFS paths, batch, etc.) -----------------\n",
    "EFS_ROOT   = \"/mnt/custom-file-systems/efs/fs-0a84517bf3cf54d59_fsap-04bd72a3f345b82c0/dialect-modeling\"\n",
    "MODEL_PATH = f\"{EFS_ROOT}/models/model9.model\"\n",
    "TRAIN_PATH = f\"{EFS_ROOT}/data/demo/train.parquet\"\n",
    "TEST_PATH  = f\"{EFS_ROOT}/data/demo/test.parquet\"\n",
    "\n",
    "BATCH_SIZE   = 64\n",
    "EPOCHS       = 10\n",
    "LR           = 1e-3\n",
    "TARGET_SR    = 16000\n",
    "N_MELS       = 40\n",
    "N_FFT        = 400\n",
    "HOP_LENGTH   = 160\n",
    "MAX_LEN      = 200     # frames (pad / truncate to this)\n",
    "\n",
    "NUM_WORKERS  = 0       # set to 0 if you see multiprocessing/pickling issues\n",
    "PIN_MEMORY   = True"
   ]
  },
  {
   "cell_type": "code",
   "execution_count": 3,
   "id": "6defffc7-e33a-43cc-94e6-a1f0fcd48b96",
   "metadata": {
    "execution": {
     "iopub.execute_input": "2025-09-14T20:28:31.413358Z",
     "iopub.status.busy": "2025-09-14T20:28:31.413113Z",
     "iopub.status.idle": "2025-09-14T20:28:31.592853Z",
     "shell.execute_reply": "2025-09-14T20:28:31.592356Z",
     "shell.execute_reply.started": "2025-09-14T20:28:31.413341Z"
    }
   },
   "outputs": [
    {
     "name": "stdout",
     "output_type": "stream",
     "text": [
      "Training on: cuda\n"
     ]
    }
   ],
   "source": [
    "# ----------------- Reproducibility (optional) -----------------\n",
    "SEED = 1337\n",
    "random.seed(SEED); np.random.seed(SEED); torch.manual_seed(SEED)\n",
    "if torch.cuda.is_available():\n",
    "    torch.cuda.manual_seed_all(SEED)\n",
    "\n",
    "device = torch.device(\"cuda\" if torch.cuda.is_available() else \"cpu\")\n",
    "print(\"Training on:\", device)\n"
   ]
  },
  {
   "cell_type": "code",
   "execution_count": 4,
   "id": "389ab94a-5936-47c0-be1b-37a34683ca0c",
   "metadata": {
    "execution": {
     "iopub.execute_input": "2025-09-14T20:29:03.487560Z",
     "iopub.status.busy": "2025-09-14T20:29:03.487341Z",
     "iopub.status.idle": "2025-09-14T20:29:03.494488Z",
     "shell.execute_reply": "2025-09-14T20:29:03.493964Z",
     "shell.execute_reply.started": "2025-09-14T20:29:03.487543Z"
    }
   },
   "outputs": [],
   "source": [
    "# ---- Helpers must be top-level for DataLoader workers ----\n",
    "def ensure_mono(y):\n",
    "    y = np.asarray(y)\n",
    "    if y.ndim == 2:\n",
    "        # try to average channels\n",
    "        if y.shape[0] < y.shape[1]:\n",
    "            y = y.mean(axis=0)\n",
    "        else:\n",
    "            y = y.mean(axis=1)\n",
    "    return y.astype(np.float32, copy=False)\n",
    "\n",
    "def resample_if_needed(y, sr_in, sr_out=TARGET_SR):\n",
    "    if sr_in is None or sr_in == 0:\n",
    "        sr_in = sr_out\n",
    "    if sr_in == sr_out:\n",
    "        return y.astype(np.float32, copy=False), sr_out\n",
    "    y_rs = librosa.resample(y.astype(np.float32, copy=False), orig_sr=int(sr_in), target_sr=int(sr_out))\n",
    "    return y_rs.astype(np.float32, copy=False), sr_out\n",
    "\n",
    "def fbanks_from_array(y, sr=TARGET_SR,\n",
    "                      n_mels=N_MELS, n_fft=N_FFT,\n",
    "                      hop_length=HOP_LENGTH, max_len=MAX_LEN):\n",
    "    mel = librosa.feature.melspectrogram(y=y, sr=sr,\n",
    "                                         n_mels=n_mels,\n",
    "                                         n_fft=n_fft,\n",
    "                                         hop_length=hop_length,\n",
    "                                         power=2.0)\n",
    "    fbanks = librosa.power_to_db(mel).T  # (time, 40)\n",
    "    T = fbanks.shape[0]\n",
    "    if T < max_len:\n",
    "        fbanks = np.pad(fbanks, ((0, max_len - T), (0, 0)), mode=\"constant\")\n",
    "    else:\n",
    "        fbanks = fbanks[:max_len, :]\n",
    "    return fbanks.astype(np.float32)\n",
    "\n",
    "class FbankArrayDataset(Dataset):\n",
    "    \"\"\"\n",
    "    Expects df columns:\n",
    "      - 'audio': array (1D or 2D)\n",
    "      - optional 'sampling_rate': int; if missing, assume TARGET_SR\n",
    "      - 'label' (0/1 or strings) or 'dialect' (string); we binarize to Shanghai=1, else 0\n",
    "    \"\"\"\n",
    "    def __init__(self, df, label_col=None):\n",
    "        self.df = df.reset_index(drop=True)\n",
    "        if label_col is None:\n",
    "            self.label_col = \"label\" if \"label\" in self.df.columns else \"dialect\"\n",
    "        else:\n",
    "            self.label_col = label_col\n",
    "\n",
    "    def __len__(self): return len(self.df)\n",
    "\n",
    "    def __getitem__(self, idx):\n",
    "        row = self.df.iloc[idx]\n",
    "        y = ensure_mono(row[\"audio\"])\n",
    "        sr = row[\"sampling_rate\"] if (\"sampling_rate\" in row and not pd.isna(row[\"sampling_rate\"])) else TARGET_SR\n",
    "        y, _ = resample_if_needed(y, int(sr), TARGET_SR)\n",
    "        x = fbanks_from_array(y, sr=TARGET_SR)   # (MAX_LEN, 40)\n",
    "\n",
    "        label = row[self.label_col]\n",
    "        if isinstance(label, str):\n",
    "            label = 1 if label.lower() == \"shanghai\" else 0\n",
    "        return torch.from_numpy(x), torch.tensor(int(label), dtype=torch.long)\n"
   ]
  },
  {
   "cell_type": "code",
   "execution_count": 5,
   "id": "748f794b-04ef-4462-9201-77447ee6f638",
   "metadata": {
    "execution": {
     "iopub.execute_input": "2025-09-14T20:29:24.411637Z",
     "iopub.status.busy": "2025-09-14T20:29:24.411413Z",
     "iopub.status.idle": "2025-09-14T20:29:33.412002Z",
     "shell.execute_reply": "2025-09-14T20:29:33.411491Z",
     "shell.execute_reply.started": "2025-09-14T20:29:24.411620Z"
    }
   },
   "outputs": [],
   "source": [
    "# Load dataframes\n",
    "train_df = pd.read_parquet(TRAIN_PATH)\n",
    "test_df  = pd.read_parquet(TEST_PATH)"
   ]
  },
  {
   "cell_type": "code",
   "execution_count": 6,
   "id": "3c088808-6ac7-4bb2-a716-d31671677c2b",
   "metadata": {
    "execution": {
     "iopub.execute_input": "2025-09-14T20:29:58.941916Z",
     "iopub.status.busy": "2025-09-14T20:29:58.941693Z",
     "iopub.status.idle": "2025-09-14T20:29:58.948668Z",
     "shell.execute_reply": "2025-09-14T20:29:58.948034Z",
     "shell.execute_reply.started": "2025-09-14T20:29:58.941899Z"
    }
   },
   "outputs": [],
   "source": [
    "# Create binary label if needed\n",
    "if \"label\" not in train_df.columns:\n",
    "    if \"corpus\" in train_df.columns:\n",
    "        train_df[\"label\"] = (train_df[\"corpus\"].str.lower() == \"shanghai\").astype(int)\n",
    "        test_df[\"label\"]  = (test_df[\"corpus\"].str.lower() == \"shanghai\").astype(int)\n",
    "    else:\n",
    "        raise ValueError(\"Need 'label' or 'corpus' in parquet.\")\n"
   ]
  },
  {
   "cell_type": "code",
   "execution_count": 7,
   "id": "1fa0db92-b71d-4921-86be-393042b25a5e",
   "metadata": {
    "execution": {
     "iopub.execute_input": "2025-09-14T20:30:12.833621Z",
     "iopub.status.busy": "2025-09-14T20:30:12.833392Z",
     "iopub.status.idle": "2025-09-14T20:30:12.838131Z",
     "shell.execute_reply": "2025-09-14T20:30:12.837643Z",
     "shell.execute_reply.started": "2025-09-14T20:30:12.833604Z"
    }
   },
   "outputs": [
    {
     "name": "stdout",
     "output_type": "stream",
     "text": [
      "Train batches: 128 | Test batches: 2\n"
     ]
    }
   ],
   "source": [
    "# Build datasets/loaders\n",
    "train_ds = FbankArrayDataset(train_df, label_col=\"label\")\n",
    "test_ds  = FbankArrayDataset(test_df,  label_col=\"label\")\n",
    "\n",
    "train_loader = DataLoader(train_ds, batch_size=BATCH_SIZE, shuffle=True,\n",
    "                          num_workers=NUM_WORKERS, pin_memory=PIN_MEMORY)\n",
    "test_loader  = DataLoader(test_ds,  batch_size=BATCH_SIZE, shuffle=False,\n",
    "                          num_workers=NUM_WORKERS, pin_memory=PIN_MEMORY)\n",
    "\n",
    "print(f\"Train batches: {len(train_loader)} | Test batches: {len(test_loader)}\")\n"
   ]
  },
  {
   "cell_type": "code",
   "execution_count": 8,
   "id": "301fecc2-6670-484e-8546-dfa5b886a537",
   "metadata": {
    "execution": {
     "iopub.execute_input": "2025-09-14T20:30:21.044385Z",
     "iopub.status.busy": "2025-09-14T20:30:21.044123Z",
     "iopub.status.idle": "2025-09-14T20:30:23.512160Z",
     "shell.execute_reply": "2025-09-14T20:30:23.511650Z",
     "shell.execute_reply.started": "2025-09-14T20:30:21.044369Z"
    }
   },
   "outputs": [
    {
     "name": "stdout",
     "output_type": "stream",
     "text": [
      "Copied 8 GRU tensors from pretrained checkpoint.\n"
     ]
    }
   ],
   "source": [
    "class LanNetBinary(nn.Module):\n",
    "    def __init__(self, input_dim=40, hidden_dim=512, num_layers=2):\n",
    "        super().__init__()\n",
    "        self.gru = nn.GRU(input_dim, hidden_dim,\n",
    "                          num_layers=num_layers, batch_first=True)\n",
    "        self.linear2 = nn.Linear(hidden_dim, 192)\n",
    "        self.linear3 = nn.Linear(192, 2)   # binary output\n",
    "    \n",
    "    def forward(self, x):\n",
    "        # x: (B, T, F)\n",
    "        out, _ = self.gru(x)               # (B, T, H)\n",
    "        last = out[:, -1, :]               # (B, H)\n",
    "        x = self.linear2(last)             # (B, 192)\n",
    "        x = self.linear3(x)                # (B, 2)\n",
    "        return x\n",
    "\n",
    "binary_model = LanNetBinary().to(device)\n",
    "\n",
    "# Load original 10-class checkpoint and copy GRU weights.\n",
    "# Checkpoint keys look like 'layer1.GRU.weight_ih_l0', etc.\n",
    "orig_state = torch.load(MODEL_PATH, map_location=\"cpu\")\n",
    "with torch.no_grad():\n",
    "    own = binary_model.state_dict()\n",
    "    copied = 0\n",
    "    for k, v in orig_state.items():\n",
    "        if k.startswith(\"layer1.GRU.\"):\n",
    "            nk = k.replace(\"layer1.GRU.\", \"gru.\")\n",
    "            if nk in own and own[nk].shape == v.shape:\n",
    "                own[nk].copy_(v); copied += 1\n",
    "print(f\"Copied {copied} GRU tensors from pretrained checkpoint.\")\n",
    "\n",
    "# Freeze GRU initially (train classifier head first)\n",
    "for p in binary_model.gru.parameters():\n",
    "    p.requires_grad = False\n",
    "\n",
    "criterion = nn.CrossEntropyLoss()\n",
    "optimizer = optim.Adam(filter(lambda p: p.requires_grad, binary_model.parameters()), lr=LR)\n",
    "\n",
    "def evaluate(model, loader, device):\n",
    "    model.eval()\n",
    "    correct, total = 0, 0\n",
    "    with torch.no_grad():\n",
    "        for xb, yb in loader:\n",
    "            xb = xb.to(device, non_blocking=True)\n",
    "            yb = yb.to(device, non_blocking=True)\n",
    "            logits = model(xb)\n",
    "            preds  = logits.argmax(1)\n",
    "            correct += (preds == yb).sum().item()\n",
    "            total   += yb.numel()\n",
    "    return correct / max(total, 1)\n"
   ]
  },
  {
   "cell_type": "code",
   "execution_count": 10,
   "id": "8712ed43-6fd9-4ecd-a823-9181ceb247dd",
   "metadata": {
    "execution": {
     "iopub.execute_input": "2025-09-14T20:38:38.863988Z",
     "iopub.status.busy": "2025-09-14T20:38:38.863766Z",
     "iopub.status.idle": "2025-09-14T20:41:31.621820Z",
     "shell.execute_reply": "2025-09-14T20:41:31.621274Z",
     "shell.execute_reply.started": "2025-09-14T20:38:38.863971Z"
    }
   },
   "outputs": [
    {
     "name": "stderr",
     "output_type": "stream",
     "text": [
      "                                                             "
     ]
    },
    {
     "name": "stdout",
     "output_type": "stream",
     "text": [
      "Epoch 01 | loss=0.3161 | val_acc=95.00% | 19.6s\n",
      "  ✅ New best saved: /mnt/custom-file-systems/efs/fs-0a84517bf3cf54d59_fsap-04bd72a3f345b82c0/dialect-modeling/best_model_binary.pth (val_acc=95.00%)\n"
     ]
    },
    {
     "name": "stderr",
     "output_type": "stream",
     "text": [
      "                                                             "
     ]
    },
    {
     "name": "stdout",
     "output_type": "stream",
     "text": [
      "Epoch 02 | loss=0.2325 | val_acc=92.50% | 17.0s\n"
     ]
    },
    {
     "name": "stderr",
     "output_type": "stream",
     "text": [
      "                                                             "
     ]
    },
    {
     "name": "stdout",
     "output_type": "stream",
     "text": [
      "Epoch 03 | loss=0.2076 | val_acc=92.50% | 17.0s\n"
     ]
    },
    {
     "name": "stderr",
     "output_type": "stream",
     "text": [
      "                                                             "
     ]
    },
    {
     "name": "stdout",
     "output_type": "stream",
     "text": [
      "Epoch 04 | loss=0.2028 | val_acc=92.50% | 17.0s\n"
     ]
    },
    {
     "name": "stderr",
     "output_type": "stream",
     "text": [
      "                                                             "
     ]
    },
    {
     "name": "stdout",
     "output_type": "stream",
     "text": [
      "Epoch 05 | loss=0.1770 | val_acc=93.75% | 17.0s\n"
     ]
    },
    {
     "name": "stderr",
     "output_type": "stream",
     "text": [
      "                                                             "
     ]
    },
    {
     "name": "stdout",
     "output_type": "stream",
     "text": [
      "Epoch 06 | loss=0.1805 | val_acc=93.75% | 17.0s\n"
     ]
    },
    {
     "name": "stderr",
     "output_type": "stream",
     "text": [
      "                                                             "
     ]
    },
    {
     "name": "stdout",
     "output_type": "stream",
     "text": [
      "Epoch 07 | loss=0.1774 | val_acc=91.25% | 17.0s\n"
     ]
    },
    {
     "name": "stderr",
     "output_type": "stream",
     "text": [
      "                                                             "
     ]
    },
    {
     "name": "stdout",
     "output_type": "stream",
     "text": [
      "Epoch 08 | loss=0.1662 | val_acc=92.50% | 17.0s\n"
     ]
    },
    {
     "name": "stderr",
     "output_type": "stream",
     "text": [
      "                                                             "
     ]
    },
    {
     "name": "stdout",
     "output_type": "stream",
     "text": [
      "Epoch 09 | loss=0.1642 | val_acc=90.00% | 17.1s\n"
     ]
    },
    {
     "name": "stderr",
     "output_type": "stream",
     "text": [
      "                                                              "
     ]
    },
    {
     "name": "stdout",
     "output_type": "stream",
     "text": [
      "Epoch 10 | loss=0.1702 | val_acc=91.25% | 17.0s\n"
     ]
    }
   ],
   "source": [
    "history = {\"loss\": [], \"val_acc\": [], \"epoch_secs\": []}\n",
    "best_acc = 0.0\n",
    "best_path = os.path.join(EFS_ROOT, \"best_model_binary.pth\")\n",
    "\n",
    "for epoch in range(1, EPOCHS + 1):\n",
    "    binary_model.train()\n",
    "    t0 = time.time()\n",
    "    running_loss = 0.0\n",
    "\n",
    "    for xb, yb in tqdm(train_loader, desc=f\"Epoch {epoch}/{EPOCHS}\", leave=False):\n",
    "        xb = xb.to(device, non_blocking=True)\n",
    "        yb = yb.to(device, non_blocking=True)\n",
    "\n",
    "        optimizer.zero_grad(set_to_none=True)\n",
    "        logits = binary_model(xb)\n",
    "        loss = criterion(logits, yb)\n",
    "        loss.backward()\n",
    "        optimizer.step()\n",
    "\n",
    "        running_loss += loss.item()\n",
    "\n",
    "    avg_loss = running_loss / max(len(train_loader), 1)\n",
    "    val_acc  = evaluate(binary_model, test_loader, device)\n",
    "    dt = time.time() - t0\n",
    "\n",
    "    history[\"loss\"].append(avg_loss)\n",
    "    history[\"val_acc\"].append(val_acc)\n",
    "    history[\"epoch_secs\"].append(dt)\n",
    "\n",
    "    print(f\"Epoch {epoch:02d} | loss={avg_loss:.4f} | val_acc={val_acc:.2%} | {dt:.1f}s\")\n",
    "\n",
    "    # Save best checkpoint\n",
    "    if val_acc > best_acc:\n",
    "        best_acc = val_acc\n",
    "        torch.save(binary_model.state_dict(), best_path)\n",
    "        print(f\"New best saved: {best_path} (val_acc={val_acc:.2%})\")\n"
   ]
  },
  {
   "cell_type": "code",
   "execution_count": 11,
   "id": "bafef33d-920e-473e-ae70-66ae3eae13ef",
   "metadata": {
    "execution": {
     "iopub.execute_input": "2025-09-14T20:41:37.191192Z",
     "iopub.status.busy": "2025-09-14T20:41:37.190808Z",
     "iopub.status.idle": "2025-09-14T20:41:37.893093Z",
     "shell.execute_reply": "2025-09-14T20:41:37.892481Z",
     "shell.execute_reply.started": "2025-09-14T20:41:37.191175Z"
    }
   },
   "outputs": [
    {
     "data": {
      "image/png": "[encoded data removed]",
      "text/plain": [
       "<Figure size 1000x400 with 2 Axes>"
      ]
     },
     "metadata": {},
     "output_type": "display_data"
    },
    {
     "data": {
      "image/png": "[encoded data removed]",
      "text/plain": [
       "<Figure size 500x400 with 2 Axes>"
      ]
     },
     "metadata": {},
     "output_type": "display_data"
    },
    {
     "name": "stdout",
     "output_type": "stream",
     "text": [
      "Classification report:\n",
      "              precision    recall  f1-score   support\n",
      "\n",
      "Not-Shanghai     0.9818    0.9000    0.9391        60\n",
      "    Shanghai     0.7600    0.9500    0.8444        20\n",
      "\n",
      "    accuracy                         0.9125        80\n",
      "   macro avg     0.8709    0.9250    0.8918        80\n",
      "weighted avg     0.9264    0.9125    0.9155        80\n",
      "\n"
     ]
    }
   ],
   "source": [
    "from sklearn.metrics import confusion_matrix, classification_report\n",
    "\n",
    "# 1) Curves\n",
    "plt.figure(figsize=(10,4))\n",
    "plt.subplot(1,2,1)\n",
    "plt.plot(history[\"loss\"], marker=\"o\")\n",
    "plt.xlabel(\"Epoch\")\n",
    "plt.ylabel(\"Loss\")\n",
    "plt.title(\"Training Loss\")\n",
    "\n",
    "plt.subplot(1,2,2)\n",
    "plt.plot(history[\"val_acc\"], marker=\"o\")\n",
    "plt.xlabel(\"Epoch\")\n",
    "plt.ylabel(\"Accuracy\")\n",
    "plt.title(\"Validation Accuracy\")\n",
    "\n",
    "plt.tight_layout()\n",
    "plt.show()\n",
    "\n",
    "# 2) Confusion matrix on test set\n",
    "binary_model.eval()\n",
    "all_preds, all_labels = [], []\n",
    "with torch.no_grad():\n",
    "    for xb, yb in test_loader:\n",
    "        xb = xb.to(device, non_blocking=True)\n",
    "        logits = binary_model(xb)\n",
    "        preds = logits.argmax(1).cpu().numpy()\n",
    "        all_preds.extend(preds)\n",
    "        all_labels.extend(yb.numpy())\n",
    "\n",
    "labels = [\"Not-Shanghai\", \"Shanghai\"]\n",
    "cm = confusion_matrix(all_labels, all_preds, labels=[0,1])\n",
    "\n",
    "plt.figure(figsize=(5,4))\n",
    "sns.heatmap(cm, annot=True, fmt=\"d\", cmap=\"Blues\",\n",
    "            xticklabels=labels, yticklabels=labels)\n",
    "plt.xlabel(\"Predicted\")\n",
    "plt.ylabel(\"True\")\n",
    "plt.title(\"Confusion Matrix\")\n",
    "plt.show()\n",
    "\n",
    "print(\"Classification report:\")\n",
    "print(classification_report(all_labels, all_preds, target_names=labels, digits=4))\n"
   ]
  },
  {
   "cell_type": "code",
   "execution_count": null,
   "id": "bbbc6bce-d6e5-47e3-afbf-ffe06106b484",
   "metadata": {},
   "outputs": [],
   "source": []
  }
 ],
 "metadata": {
  "kernelspec": {
   "display_name": "Python 3 (ipykernel)",
   "language": "python",
   "name": "python3"
  },
  "language_info": {
   "codemirror_mode": {
    "name": "ipython",
    "version": 3
   },
   "file_extension": ".py",
   "mimetype": "text/x-python",
   "name": "python",
   "nbconvert_exporter": "python",
   "pygments_lexer": "ipython3",
   "version": "3.12.9"
  }
 },
 "nbformat": 4,
 "nbformat_minor": 5
}
